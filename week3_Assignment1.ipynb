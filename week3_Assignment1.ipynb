{
  "nbformat": 4,
  "nbformat_minor": 0,
  "metadata": {
    "colab": {
      "provenance": []
    },
    "kernelspec": {
      "name": "python3",
      "display_name": "Python 3"
    },
    "language_info": {
      "name": "python"
    }
  },
  "cells": [
    {
      "cell_type": "code",
      "execution_count": 3,
      "metadata": {
        "id": "f4G5L1gsK-Bi"
      },
      "outputs": [],
      "source": [
        "# Q1. Which keyword is used to create a function? Create a function to return a list of odd numbers in the range of 1 to 25.\n",
        "\n",
        "\"\"\"we can create a function with 'def' keyword\"\"\"\n",
        "\n",
        "x,y=1,25\n",
        "l1=[]\n",
        "def test_odd(x,y):\n",
        "  for i in range (x,y):\n",
        "    if i%2!=0:\n",
        "      l1.append(i)\n",
        "  return l1"
      ]
    },
    {
      "cell_type": "code",
      "source": [
        "test_odd(1,25)\n"
      ],
      "metadata": {
        "colab": {
          "base_uri": "https://localhost:8080/"
        },
        "id": "z9a4_YAUZmhB",
        "outputId": "4ca4737a-1b14-458b-84d4-c64b79a6bdaa"
      },
      "execution_count": 4,
      "outputs": [
        {
          "output_type": "execute_result",
          "data": {
            "text/plain": [
              "[1, 3, 5, 7, 9, 11, 13, 15, 17, 19, 21, 23]"
            ]
          },
          "metadata": {},
          "execution_count": 4
        }
      ]
    },
    {
      "cell_type": "code",
      "source": [
        "# Q2. Why *args and **kwargs is used in some functions? Create a function each for *args and **kwargs to demonstrate their use.\n",
        "\n",
        "'''You can use *args and **kwargs as arguments of a function when you are unsure about the number of arguments to pass in the functions.'''\n",
        "\n",
        "def myFun(arg1, *argv):\n",
        "    print(\"First argument :\", arg1)\n",
        "    for arg in argv:\n",
        "        print(\"Next argument through *argv :\", arg)\n",
        "        \n",
        "myFun('Hello', 'My', 'name', 'Kingshuk')"
      ],
      "metadata": {
        "id": "K5EaQRpnmj27",
        "colab": {
          "base_uri": "https://localhost:8080/"
        },
        "outputId": "f37cc2de-bfce-4edd-a737-d7197c82214d"
      },
      "execution_count": 5,
      "outputs": [
        {
          "output_type": "stream",
          "name": "stdout",
          "text": [
            "First argument : Hello\n",
            "Next argument through *argv : My\n",
            "Next argument through *argv : name\n",
            "Next argument through *argv : Kingshuk\n"
          ]
        }
      ]
    },
    {
      "cell_type": "code",
      "source": [
        "'''**kwargs allows us to pass a variable number of keyword arguments to a Python function. In the function, we use the double-asterisk (**) before the parameter name to denote this type of argument.'''\n",
        "def total_fruits(**kwargs):\n",
        "    print(kwargs, type(kwargs))\n",
        "                                  # **kwargs argumenet is allowsto pass any number of Key-word arguments, and store as dictionary in kwargs variable.\n",
        "\n",
        "total_fruits(banana=5, mango=7, apple=8)"
      ],
      "metadata": {
        "colab": {
          "base_uri": "https://localhost:8080/"
        },
        "id": "YXhHawxBBAsK",
        "outputId": "680092c5-2275-4d37-d525-85fd711cd066"
      },
      "execution_count": 15,
      "outputs": [
        {
          "output_type": "stream",
          "name": "stdout",
          "text": [
            "{'banana': 5, 'mango': 7, 'apple': 8} <class 'dict'>\n"
          ]
        }
      ]
    },
    {
      "cell_type": "code",
      "source": [
        "#Q3. What is an iterator in python? Name the method used to initialise the iterator object and the method used for iteration. \n",
        "#Use these methods to print the first five elements of the given list [2, 4, 6, 8, 10, 12, 14, 16, 18, 20].\n",
        "\n",
        "\"\"\"Iterator is an object that allows you to iterate over collections of data, such as lists, tuples, dictionaries, and sets. \"\"\"\n",
        "l =[2, 4, 6, 8, 10, 12, 14,16, 18, 20]\n",
        "iterator = iter(l)\n",
        "for i in range(5):\n",
        "  print(next(iterator))"
      ],
      "metadata": {
        "id": "tWrYxSF-mvsq",
        "colab": {
          "base_uri": "https://localhost:8080/"
        },
        "outputId": "60ea8ee4-792c-4e85-c91e-383fd1995d9f"
      },
      "execution_count": 7,
      "outputs": [
        {
          "output_type": "stream",
          "name": "stdout",
          "text": [
            "2\n",
            "4\n",
            "6\n",
            "8\n",
            "10\n"
          ]
        }
      ]
    },
    {
      "cell_type": "code",
      "source": [
        "# Q4. What is a generator function in python? Why yield keyword is used? Give an example of a generator function.\n",
        "\"\"\"A Python generator function allows you to declare a function that behaves like an iterator, \n",
        "providing a faster and easier way to create iterators.\"\"\"\n",
        "\n",
        "'''The (yield) keyword in Python controls the flow of a generator function'''\n",
        "\n",
        "#example of a generator function is:\n",
        "def test_fibonaci(n):\n",
        "  a,b=0,1\n",
        "  for i in range(n):\n",
        "        yield a\n",
        "        a,b= b, a+b\n",
        "for i in test_fibonaci(10):\n",
        "  print(i)\n"
      ],
      "metadata": {
        "id": "2bYW1rwwn13v",
        "colab": {
          "base_uri": "https://localhost:8080/"
        },
        "outputId": "3c26545c-54ed-4a5c-9653-9dd202ff4f1e"
      },
      "execution_count": 8,
      "outputs": [
        {
          "output_type": "stream",
          "name": "stdout",
          "text": [
            "0\n",
            "1\n",
            "1\n",
            "2\n",
            "3\n",
            "5\n",
            "8\n",
            "13\n",
            "21\n",
            "34\n"
          ]
        }
      ]
    },
    {
      "cell_type": "code",
      "source": [
        "# Q5. Create a generator function for prime numbers less than 1000. Use the next() method to print the first 20 prime numbers.\n",
        "def prime_generator():\n",
        "    primes = []\n",
        "    num = 2\n",
        "\n",
        "    while num < 1000:\n",
        "        is_prime = True\n",
        "\n",
        "        for prime in primes:\n",
        "            if num % prime == 0:\n",
        "                is_prime = False\n",
        "                break\n",
        "\n",
        "        if is_prime:\n",
        "            primes.append(num)\n",
        "            yield num\n",
        "\n",
        "        num += 1\n",
        "\n",
        "#Using the generator function to print the first 20 prime numbers\n",
        "prime_gen = prime_generator()\n",
        "for  i in range(20):\n",
        "    print(next(prime_gen))"
      ],
      "metadata": {
        "id": "1xpdIM5Kn7gp",
        "colab": {
          "base_uri": "https://localhost:8080/"
        },
        "outputId": "14eb1119-c819-40e5-fb60-cce44782cc40"
      },
      "execution_count": 9,
      "outputs": [
        {
          "output_type": "stream",
          "name": "stdout",
          "text": [
            "2\n",
            "3\n",
            "5\n",
            "7\n",
            "11\n",
            "13\n",
            "17\n",
            "19\n",
            "23\n",
            "29\n",
            "31\n",
            "37\n",
            "41\n",
            "43\n",
            "47\n",
            "53\n",
            "59\n",
            "61\n",
            "67\n",
            "71\n"
          ]
        }
      ]
    },
    {
      "cell_type": "code",
      "source": [
        "# Q6. Write a python program to print the first 10 Fibonacci numbers using a while loop.\n",
        "def fibo():\n",
        "  a, b = 0,1\n",
        "  print(a,\",\",b,end = \" , \")\n",
        "  count = 1\n",
        "  while count<5:\n",
        "    a = a+b\n",
        "    b = a+b\n",
        "    print(a,\",\",b,end = \" , \")\n",
        "    count +=1\n",
        "fibo()"
      ],
      "metadata": {
        "colab": {
          "base_uri": "https://localhost:8080/"
        },
        "id": "xr-TeK1moMK-",
        "outputId": "5b2021d3-fb35-4303-ad22-e79b32e7d72a"
      },
      "execution_count": 10,
      "outputs": [
        {
          "output_type": "stream",
          "name": "stdout",
          "text": [
            "0 , 1 , 1 , 2 , 3 , 5 , 8 , 13 , 21 , 34 , "
          ]
        }
      ]
    },
    {
      "cell_type": "code",
      "source": [
        "# Q7. Write a List Comprehension to iterate through the given string: ‘pwskills’.\n",
        "# Expected output: ['p', 'w', 's', 'k', 'i', 'l', 'l', 's']\n",
        "s = \"pwskills\"\n",
        "l = [i for i in s]\n",
        "l"
      ],
      "metadata": {
        "id": "Skvd5ISVoe2x",
        "colab": {
          "base_uri": "https://localhost:8080/"
        },
        "outputId": "b3241dc0-c2e7-4f06-bfe2-ac7e874f9170"
      },
      "execution_count": 11,
      "outputs": [
        {
          "output_type": "execute_result",
          "data": {
            "text/plain": [
              "['p', 'w', 's', 'k', 'i', 'l', 'l', 's']"
            ]
          },
          "metadata": {},
          "execution_count": 11
        }
      ]
    },
    {
      "cell_type": "code",
      "source": [
        "# Q8. Write a python program to check whether a given number is Palindrome or not using a while loop.\n",
        "num=int(input(\"Enter the number: \"))\n",
        "temp = num  \n",
        "rev = 0  \n",
        "while num > 0:  \n",
        "    dig = num % 10  \n",
        "    rev = rev * 10 + dig  \n",
        "    num = num // 10  \n",
        "if temp == rev: \n",
        "    print('The number is palindrome')\n",
        "else:\n",
        "    print('The number is not palindrome')"
      ],
      "metadata": {
        "colab": {
          "base_uri": "https://localhost:8080/"
        },
        "id": "QIlQW2ytonvP",
        "outputId": "448e17a7-3357-4220-bb9b-a5af35b6fdb3"
      },
      "execution_count": 12,
      "outputs": [
        {
          "output_type": "stream",
          "name": "stdout",
          "text": [
            "Enter the number: 125521\n",
            "The number is palindrome\n"
          ]
        }
      ]
    },
    {
      "cell_type": "code",
      "source": [
        "# Q9. Write a code to print odd numbers from 1 to 100 using list comprehension.\n",
        "l = [i for i in range(1,101)]\n",
        "print(l)\n",
        "l1 = list(filter(lambda x : x %2!=0,l))\n",
        "print(l1)"
      ],
      "metadata": {
        "colab": {
          "base_uri": "https://localhost:8080/"
        },
        "id": "Pdvc-kOOOmkt",
        "outputId": "c1217850-5c8b-4816-b3c2-53175ec4dbb0"
      },
      "execution_count": 13,
      "outputs": [
        {
          "output_type": "stream",
          "name": "stdout",
          "text": [
            "[1, 2, 3, 4, 5, 6, 7, 8, 9, 10, 11, 12, 13, 14, 15, 16, 17, 18, 19, 20, 21, 22, 23, 24, 25, 26, 27, 28, 29, 30, 31, 32, 33, 34, 35, 36, 37, 38, 39, 40, 41, 42, 43, 44, 45, 46, 47, 48, 49, 50, 51, 52, 53, 54, 55, 56, 57, 58, 59, 60, 61, 62, 63, 64, 65, 66, 67, 68, 69, 70, 71, 72, 73, 74, 75, 76, 77, 78, 79, 80, 81, 82, 83, 84, 85, 86, 87, 88, 89, 90, 91, 92, 93, 94, 95, 96, 97, 98, 99, 100]\n",
            "[1, 3, 5, 7, 9, 11, 13, 15, 17, 19, 21, 23, 25, 27, 29, 31, 33, 35, 37, 39, 41, 43, 45, 47, 49, 51, 53, 55, 57, 59, 61, 63, 65, 67, 69, 71, 73, 75, 77, 79, 81, 83, 85, 87, 89, 91, 93, 95, 97, 99]\n"
          ]
        }
      ]
    },
    {
      "cell_type": "code",
      "source": [
        "# given a list of integers. find the product of the integers\n",
        "l=[1,2,3,5,6]\n",
        "\n",
        "for i in l:\n",
        "  i*i"
      ],
      "metadata": {
        "id": "itR4ILPhRspm"
      },
      "execution_count": 14,
      "outputs": []
    }
  ]
}